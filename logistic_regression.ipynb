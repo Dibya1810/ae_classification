{
  "nbformat": 4,
  "nbformat_minor": 0,
  "metadata": {
    "colab": {
      "provenance": [],
      "collapsed_sections": [],
      "authorship_tag": "ABX9TyPvxZDW1g3ibNo8Vctd7k5B",
      "include_colab_link": true
    },
    "kernelspec": {
      "name": "python3",
      "display_name": "Python 3"
    },
    "language_info": {
      "name": "python"
    }
  },
  "cells": [
    {
      "cell_type": "markdown",
      "metadata": {
        "id": "view-in-github",
        "colab_type": "text"
      },
      "source": [
        "<a href=\"https://colab.research.google.com/github/Dibya1810/ae_classification/blob/main/logistic_regression.ipynb\" target=\"_parent\"><img src=\"https://colab.research.google.com/assets/colab-badge.svg\" alt=\"Open In Colab\"/></a>"
      ]
    },
    {
      "cell_type": "code",
      "execution_count": null,
      "metadata": {
        "colab": {
          "base_uri": "https://localhost:8080/"
        },
        "id": "fpLM-jgxfldS",
        "outputId": "291e4945-e847-46eb-c0a6-9ec7b72a724a"
      },
      "outputs": [
        {
          "output_type": "stream",
          "name": "stdout",
          "text": [
            "Mounted at /content/drive/\n"
          ]
        }
      ],
      "source": [
        "import numpy as np\n",
        "import pandas as pd\n",
        "import matplotlib.pyplot as plt\n",
        "plt.rcParams[\"font.family\"] = \"Serif\"\n",
        "plt.rcParams[\"font.serif\"] = \"Times New Roman\"\n",
        "import seaborn as sns\n",
        "\n",
        "\n",
        "from google.colab import drive\n",
        "drive.mount('/content/drive/')\n",
        "\n",
        "X1 = pd.read_csv(\"/content/drive/MyDrive/SVM Classifier/M1-RC2/m1_rc2_40-50_1.csv\")\n",
        "X2 = pd.read_csv(\"/content/drive/MyDrive/SVM Classifier/M1-RC2/m1_rc2_40-50_2.csv\")\n",
        "\n",
        "df1 =pd.DataFrame(np.vstack([X1['RA'],X1['AF']]).T,columns=['Y1','Y2'])\n",
        "df1['Y']=0\n",
        "df2 =pd.DataFrame(np.vstack([X2['RA'],X2['AF']]).T,columns=['Y1','Y2'])\n",
        "df2['Y']=1\n",
        "df = df1.append(df2)\n",
        "df.head()\n",
        "\n",
        "### Independent and Dependent features\n",
        "X = df.iloc[:, :2]  \n",
        "y = df.Y\n",
        "\n",
        "## Split the dataset into train and test\n",
        "from sklearn.model_selection import train_test_split\n",
        "X_train,X_test,y_train,y_test=train_test_split(X,y,test_size=0.25,random_state=0)\n",
        "y_train\n",
        "\n",
        "from sklearn.preprocessing import StandardScaler\n",
        "sc_X = StandardScaler()\n",
        "X_train = sc_X.fit_transform(X_train)\n",
        "X_test = sc_X.transform(X_test)\n",
        "\n",
        "from sklearn.linear_model import LogisticRegression\n",
        "classifier = LogisticRegression(random_state = 0)\n",
        "classifier.fit(X_train, y_train)\n",
        "\n",
        "y_pred = classifier.predict(X_test)\n",
        "\n",
        "from sklearn.metrics import confusion_matrix\n",
        "cm = confusion_matrix(y_test, y_pred)\n",
        "\n"
      ]
    },
    {
      "cell_type": "code",
      "source": [
        "from sklearn.linear_model import LogisticRegression\n",
        "from sklearn.metrics import accuracy_score\n",
        "classifier = LogisticRegression(random_state = 0)\n",
        "classifier.fit(X_train, y_train)\n",
        "y_pred = classifier.predict(X_test)\n",
        "accuracy_score(y_test, y_pred)"
      ],
      "metadata": {
        "colab": {
          "base_uri": "https://localhost:8080/"
        },
        "id": "vRoj5eJfxyXu",
        "outputId": "7516d53b-72e6-4a84-a981-a28dcd150f54"
      },
      "execution_count": null,
      "outputs": [
        {
          "output_type": "execute_result",
          "data": {
            "text/plain": [
              "1.0"
            ]
          },
          "metadata": {},
          "execution_count": 7
        }
      ]
    },
    {
      "cell_type": "code",
      "source": [
        "##final visualization\n",
        "#plt_1 = plt.figure(figsize=(10, 6))\n",
        "hfont = {'fontname':'Times New Roman'}\n",
        "\n",
        "from matplotlib.colors import ListedColormap\n",
        "X_set, Y_set = X_train, y_train\n",
        "x1, x2 = np.meshgrid(np.arange(start = X_set[:,0].min() -1, stop = X_set[:, 0].max() +1, step = 0.01),\n",
        "                     np.arange(start = X_set[:,1].min() -1, stop = X_set[:, 1].max() +1, step = 0.01))\n",
        "\n",
        "plt.contourf(x1,x2, classifier.predict(np.array([x1.ravel(), x2.ravel()]).T).reshape(x1.shape),\n",
        "             alpha = 0.75, cmap = ListedColormap(('#F7EC09','#251D3A')), **hfont)\n",
        "\n",
        "plt.xlim(x1.min(), x2.max())\n",
        "plt.ylim(x2.min(), x2.max())\n",
        "for i, j in enumerate(np.unique(Y_set)):\n",
        "    plt.scatter(X_set[Y_set == j, 0], X_set[Y_set == j,1],\n",
        "                c = ListedColormap(('#F7EC09','#251D3A'))(i), label = j)\n",
        "plt.title('M1-RC2 Specimen ( 40 mins - 50 mins)', **hfont)\n",
        "plt.rcParams[\"font.family\"] = \"Times New Roman\"\n",
        "plt.xlabel('RA Value', **hfont)\n",
        "plt.ylabel('Average Frequency', **hfont)\n",
        "plt.legend()\n",
        "plt.savefig(\"M1-RC2-40-50.png\", format=\"png\", dpi=600)\n",
        "plt.show()"
      ],
      "metadata": {
        "id": "32p7FhQP3krF"
      },
      "execution_count": null,
      "outputs": []
    },
    {
      "cell_type": "code",
      "source": [
        "##final visualization\n",
        "\n",
        "from matplotlib.colors import ListedColormap\n",
        "X_set, Y_set = X_train, y_train\n",
        "x1, x2 = np.meshgrid(np.arange(start = X_set[:,0].min() -1, stop = X_set[:, 0].max() +1, step = 0.01),\n",
        "                     np.arange(start = X_set[:,1].min() -1, stop = X_set[:, 1].max() +1, step = 0.01))\n",
        "\n",
        "plt.contourf(x1,x2, classifier.predict(np.array([x1.ravel(), x2.ravel()]).T).reshape(x1.shape),\n",
        "             alpha = 0.75, cmap = ListedColormap(('#3AB0FF', '#F77E21')))\n",
        "\n",
        "plt.xlim(x1.min(), x2.max())\n",
        "plt.ylim(x2.min(), x2.max())\n",
        "for i, j in enumerate(np.unique(Y_set)):\n",
        "    plt.scatter(X_set[Y_set == j, 0], X_set[Y_set == j,1],\n",
        "                c = ListedColormap(('red', 'green'))(i), label = j)\n",
        "plt.title('Logistic Regression ( Training set)')\n",
        "plt.xlabel('RA Value')\n",
        "plt.ylabel('Average Frequency')\n",
        "plt.legend()\n",
        "plt.show()"
      ],
      "metadata": {
        "id": "RN_8BGI32Qt3"
      },
      "execution_count": null,
      "outputs": []
    },
    {
      "cell_type": "code",
      "source": [
        "##final visualization\n",
        "plt_1 = plt.figure(figsize=(10, 6))\n",
        "\n",
        "from matplotlib.colors import ListedColormap\n",
        "X_set, Y_set = X_train, y_train\n",
        "x1, x2 = np.meshgrid(np.arange(start = X_set[:,0].min() -1, stop = X_set[:, 0].max() +1, step = 0.01),\n",
        "                     np.arange(start = X_set[:,1].min() -1, stop = X_set[:, 1].max() +1, step = 0.01))\n",
        "\n",
        "plt.contourf(x1,x2, classifier.predict(np.array([x1.ravel(), x2.ravel()]).T).reshape(x1.shape),\n",
        "             alpha = 0.75, cmap = ListedColormap(('#F7EC09','#251D3A')))\n",
        "\n",
        "plt.xlim(x1.min(), x2.max())\n",
        "plt.ylim(x2.min(), x2.max())\n",
        "for i, j in enumerate(np.unique(Y_set)):\n",
        "    plt.scatter(X_set[Y_set == j, 0], X_set[Y_set == j,1],\n",
        "                c = ListedColormap(('#F7EC09','#251D3A'))(i), label = j)\n",
        "plt.title('Logistic Regression ( Training set)')\n",
        "plt.xlabel('RA Value')\n",
        "plt.ylabel('Average Frequency')\n",
        "plt.legend(['Tensile', 'Shear'])\n",
        "plt.show()"
      ],
      "metadata": {
        "id": "YFmvEWA3jz8Q"
      },
      "execution_count": null,
      "outputs": []
    },
    {
      "cell_type": "code",
      "source": [
        "##final visualization\n",
        "#plt_1 = plt.figure(figsize=(10, 6))\n",
        "hfont = {'fontname':'Times New Roman'}\n",
        "\n",
        "from matplotlib.colors import ListedColormap\n",
        "X_set, Y_set = X_train, y_train\n",
        "x1, x2 = np.meshgrid(np.arange(start = X_set[:,0].min() -1, stop = X_set[:, 0].max() +1, step = 0.01),\n",
        "                     np.arange(start = X_set[:,1].min() -1, stop = X_set[:, 1].max() +1, step = 0.01))\n",
        "\n",
        "plt.contourf(x1,x2, classifier.predict(np.array([x1.ravel(), x2.ravel()]).T).reshape(x1.shape),\n",
        "             alpha = 0.75, cmap = ListedColormap(('#F7EC09','#251D3A')), **hfont)\n",
        "\n",
        "plt.xlim(x1.min(), x2.max())\n",
        "plt.ylim(x2.min(), x2.max())\n",
        "for i, j in enumerate(np.unique(Y_set)):\n",
        "    plt.scatter(X_set[Y_set == j, 0], X_set[Y_set == j,1],\n",
        "                c = ListedColormap(('#F7EC09','#251D3A'))(i), label = j)\n",
        "plt.title('M1-RC1 Specimen ( 10 mins - 20 mins)', **hfont)\n",
        "plt.rcParams[\"font.family\"] = \"Times New Roman\"\n",
        "plt.xlabel('RA Value', **hfont)\n",
        "plt.ylabel('Average Frequency', **hfont)\n",
        "plt.legend()\n",
        "#plt.savefig(\"M1-RC1-10-20.png\", format=\"png\", dpi=600)\n",
        "plt.show()"
      ],
      "metadata": {
        "id": "yBVMjRO2ggtn"
      },
      "execution_count": null,
      "outputs": []
    }
  ]
}